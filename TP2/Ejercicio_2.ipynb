{
  "nbformat": 4,
  "nbformat_minor": 0,
  "metadata": {
    "colab": {
      "name": "TP2 - Ejercicio 1.ipynb",
      "provenance": [],
      "authorship_tag": "ABX9TyOHDK2CkKV9sZb+TeOK8GlQ",
      "include_colab_link": true
    },
    "kernelspec": {
      "name": "python3",
      "display_name": "Python 3"
    },
    "language_info": {
      "name": "python"
    }
  },
  "cells": [
    {
      "cell_type": "markdown",
      "metadata": {
        "id": "view-in-github",
        "colab_type": "text"
      },
      "source": [
        "<a href=\"https://colab.research.google.com/github/nicolassalomon96/aprendizaje_maquina_UNS/blob/master/TP2/Ejercicio_2.ipynb\" target=\"_parent\"><img src=\"https://colab.research.google.com/assets/colab-badge.svg\" alt=\"Open In Colab\"/></a>"
      ]
    },
    {
      "cell_type": "markdown",
      "metadata": {
        "id": "yc2rDKADbNr-"
      },
      "source": [
        "# TP2 - Ejercicio 1\n",
        "\n",
        "Presentado: Nicolás Salomón - email: nicolassalomon96@gmail.com\n",
        "\n",
        "Generar un dataset similar al de la pág. 12 de este apunte (dos conjuntos Gaussianos con diferente media y DS, N=50 c/u, uno con etiqueta A y otro con etiqueta B).\n",
        "Utilizar la curva ROC para proponer un umbral para un clasificador por mínimo error. Evaluar algunos de los parámetros de calidad (exactitud, precisión, f-measure).\n",
        "Recalcular para algunas variantes (por ejemplo, acercando las medias de los grupos A y B, cambiando el valor umbral, etc.).\n",
        "Cómo podrían hacer no supervisado este proceso?"
      ]
    },
    {
      "cell_type": "markdown",
      "metadata": {
        "id": "Rpurs8so3pjA"
      },
      "source": [
        "## 1. Se importan librerias necesarias y se clonan los datasets del repositorio"
      ]
    },
    {
      "cell_type": "code",
      "metadata": {
        "id": "O2xZhlEKEFcU"
      },
      "source": [
        "import pandas as pd\n",
        "import numpy as np\n",
        "import matplotlib.pyplot as plt"
      ],
      "execution_count": 1,
      "outputs": []
    }
  ]
}