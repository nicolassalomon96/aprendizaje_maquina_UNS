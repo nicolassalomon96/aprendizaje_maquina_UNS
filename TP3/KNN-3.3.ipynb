{
  "nbformat": 4,
  "nbformat_minor": 0,
  "metadata": {
    "colab": {
      "name": "KNN-3.3.ipynb",
      "provenance": [],
      "collapsed_sections": [
        "_6Oyfmg3nKH6",
        "4hGUDmtU6Gt7",
        "VHseLyHz6SYb"
      ],
      "authorship_tag": "ABX9TyOZExLdAwV5iE8ky2EE6WTt",
      "include_colab_link": true
    },
    "kernelspec": {
      "name": "python3",
      "display_name": "Python 3"
    },
    "language_info": {
      "name": "python"
    }
  },
  "cells": [
    {
      "cell_type": "markdown",
      "metadata": {
        "id": "view-in-github",
        "colab_type": "text"
      },
      "source": [
        "<a href=\"https://colab.research.google.com/github/nicolassalomon96/aprendizaje_maquina_UNS/blob/master/TP3/KNN-3.3.ipynb\" target=\"_parent\"><img src=\"https://colab.research.google.com/assets/colab-badge.svg\" alt=\"Open In Colab\"/></a>"
      ]
    },
    {
      "cell_type": "markdown",
      "metadata": {
        "id": "p2-TwqwKmaf6"
      },
      "source": [
        "# TP3 - Clasificador KNN\n",
        "\n",
        "### Ejercicio 3.3: En el notebook https://github.com/manlio99/Materia-de-aprendizaje/blob/master/3_MidtermProjects/musica.ipynb hay un dataset con 2000+ canciones de Spotify de una usuaria, donde algunas fueron marcadas como gustadas y otras no. Cada canción tiene a su vez 16 atributos (nombre, artista, duración, bailable, etc.). Desarrollar un clasificador que prediga si una canción dada va a ser gustada o no. Aclarar y justificar los pasos, analizar y explicar los resultados."
      ]
    },
    {
      "cell_type": "markdown",
      "metadata": {
        "id": "_6Oyfmg3nKH6"
      },
      "source": [
        "## 1. Librerias necesarias"
      ]
    },
    {
      "cell_type": "code",
      "metadata": {
        "id": "7wZ0aD6Ekz5u"
      },
      "source": [
        "import pandas as pd\n",
        "import numpy as np\n",
        "import matplotlib.pyplot as plt\n",
        "import pandas as pd\n",
        "import seaborn as sb\n",
        "from sklearn.model_selection import KFold\n",
        "from sklearn.model_selection import train_test_split\n",
        "from sklearn import neighbors\n",
        "from sklearn import metrics\n",
        "\n",
        "from sklearn.feature_selection import f_classif\n",
        "from sklearn.feature_selection import RFE\n",
        "from sklearn.ensemble import ExtraTreesClassifier"
      ],
      "execution_count": null,
      "outputs": []
    },
    {
      "cell_type": "markdown",
      "metadata": {
        "id": "4hGUDmtU6Gt7"
      },
      "source": [
        "## 2. Se importa el dataset"
      ]
    },
    {
      "cell_type": "code",
      "metadata": {
        "colab": {
          "base_uri": "https://localhost:8080/",
          "height": 424
        },
        "id": "Tn5ktYNq-onx",
        "outputId": "ae3faee6-756f-4a1d-fb7e-eb0351489ae6"
      },
      "source": [
        "import pandas as pd\n",
        "#leemos el dataset\n",
        "attributes_spotify = pd.read_csv(\"https://raw.githubusercontent.com/emmanueliarussi/DataScienceCapstone/master/3_MidtermProjects/ProjectBOM/data/attributes_spotify.csv\")\n",
        "display(attributes_spotify)"
      ],
      "execution_count": null,
      "outputs": [
        {
          "output_type": "display_data",
          "data": {
            "text/html": [
              "<div>\n",
              "<style scoped>\n",
              "    .dataframe tbody tr th:only-of-type {\n",
              "        vertical-align: middle;\n",
              "    }\n",
              "\n",
              "    .dataframe tbody tr th {\n",
              "        vertical-align: top;\n",
              "    }\n",
              "\n",
              "    .dataframe thead th {\n",
              "        text-align: right;\n",
              "    }\n",
              "</style>\n",
              "<table border=\"1\" class=\"dataframe\">\n",
              "  <thead>\n",
              "    <tr style=\"text-align: right;\">\n",
              "      <th></th>\n",
              "      <th>Unnamed: 0</th>\n",
              "      <th>acousticness</th>\n",
              "      <th>danceability</th>\n",
              "      <th>duration_ms</th>\n",
              "      <th>energy</th>\n",
              "      <th>instrumentalness</th>\n",
              "      <th>key</th>\n",
              "      <th>liveness</th>\n",
              "      <th>loudness</th>\n",
              "      <th>mode</th>\n",
              "      <th>speechiness</th>\n",
              "      <th>tempo</th>\n",
              "      <th>time_signature</th>\n",
              "      <th>valence</th>\n",
              "      <th>target</th>\n",
              "      <th>song_title</th>\n",
              "      <th>artist</th>\n",
              "    </tr>\n",
              "  </thead>\n",
              "  <tbody>\n",
              "    <tr>\n",
              "      <th>0</th>\n",
              "      <td>0</td>\n",
              "      <td>0.01020</td>\n",
              "      <td>0.833</td>\n",
              "      <td>204600</td>\n",
              "      <td>0.434</td>\n",
              "      <td>0.021900</td>\n",
              "      <td>2</td>\n",
              "      <td>0.1650</td>\n",
              "      <td>-8.795</td>\n",
              "      <td>1</td>\n",
              "      <td>0.4310</td>\n",
              "      <td>150.062</td>\n",
              "      <td>4.0</td>\n",
              "      <td>0.286</td>\n",
              "      <td>1</td>\n",
              "      <td>Mask Off</td>\n",
              "      <td>Future</td>\n",
              "    </tr>\n",
              "    <tr>\n",
              "      <th>1</th>\n",
              "      <td>1</td>\n",
              "      <td>0.19900</td>\n",
              "      <td>0.743</td>\n",
              "      <td>326933</td>\n",
              "      <td>0.359</td>\n",
              "      <td>0.006110</td>\n",
              "      <td>1</td>\n",
              "      <td>0.1370</td>\n",
              "      <td>-10.401</td>\n",
              "      <td>1</td>\n",
              "      <td>0.0794</td>\n",
              "      <td>160.083</td>\n",
              "      <td>4.0</td>\n",
              "      <td>0.588</td>\n",
              "      <td>1</td>\n",
              "      <td>Redbone</td>\n",
              "      <td>Childish Gambino</td>\n",
              "    </tr>\n",
              "    <tr>\n",
              "      <th>2</th>\n",
              "      <td>2</td>\n",
              "      <td>0.03440</td>\n",
              "      <td>0.838</td>\n",
              "      <td>185707</td>\n",
              "      <td>0.412</td>\n",
              "      <td>0.000234</td>\n",
              "      <td>2</td>\n",
              "      <td>0.1590</td>\n",
              "      <td>-7.148</td>\n",
              "      <td>1</td>\n",
              "      <td>0.2890</td>\n",
              "      <td>75.044</td>\n",
              "      <td>4.0</td>\n",
              "      <td>0.173</td>\n",
              "      <td>1</td>\n",
              "      <td>Xanny Family</td>\n",
              "      <td>Future</td>\n",
              "    </tr>\n",
              "    <tr>\n",
              "      <th>3</th>\n",
              "      <td>3</td>\n",
              "      <td>0.60400</td>\n",
              "      <td>0.494</td>\n",
              "      <td>199413</td>\n",
              "      <td>0.338</td>\n",
              "      <td>0.510000</td>\n",
              "      <td>5</td>\n",
              "      <td>0.0922</td>\n",
              "      <td>-15.236</td>\n",
              "      <td>1</td>\n",
              "      <td>0.0261</td>\n",
              "      <td>86.468</td>\n",
              "      <td>4.0</td>\n",
              "      <td>0.230</td>\n",
              "      <td>1</td>\n",
              "      <td>Master Of None</td>\n",
              "      <td>Beach House</td>\n",
              "    </tr>\n",
              "    <tr>\n",
              "      <th>4</th>\n",
              "      <td>4</td>\n",
              "      <td>0.18000</td>\n",
              "      <td>0.678</td>\n",
              "      <td>392893</td>\n",
              "      <td>0.561</td>\n",
              "      <td>0.512000</td>\n",
              "      <td>5</td>\n",
              "      <td>0.4390</td>\n",
              "      <td>-11.648</td>\n",
              "      <td>0</td>\n",
              "      <td>0.0694</td>\n",
              "      <td>174.004</td>\n",
              "      <td>4.0</td>\n",
              "      <td>0.904</td>\n",
              "      <td>1</td>\n",
              "      <td>Parallel Lines</td>\n",
              "      <td>Junior Boys</td>\n",
              "    </tr>\n",
              "    <tr>\n",
              "      <th>...</th>\n",
              "      <td>...</td>\n",
              "      <td>...</td>\n",
              "      <td>...</td>\n",
              "      <td>...</td>\n",
              "      <td>...</td>\n",
              "      <td>...</td>\n",
              "      <td>...</td>\n",
              "      <td>...</td>\n",
              "      <td>...</td>\n",
              "      <td>...</td>\n",
              "      <td>...</td>\n",
              "      <td>...</td>\n",
              "      <td>...</td>\n",
              "      <td>...</td>\n",
              "      <td>...</td>\n",
              "      <td>...</td>\n",
              "      <td>...</td>\n",
              "    </tr>\n",
              "    <tr>\n",
              "      <th>2012</th>\n",
              "      <td>2012</td>\n",
              "      <td>0.00106</td>\n",
              "      <td>0.584</td>\n",
              "      <td>274404</td>\n",
              "      <td>0.932</td>\n",
              "      <td>0.002690</td>\n",
              "      <td>1</td>\n",
              "      <td>0.1290</td>\n",
              "      <td>-3.501</td>\n",
              "      <td>1</td>\n",
              "      <td>0.3330</td>\n",
              "      <td>74.976</td>\n",
              "      <td>4.0</td>\n",
              "      <td>0.211</td>\n",
              "      <td>0</td>\n",
              "      <td>Like A Bitch - Kill The Noise Remix</td>\n",
              "      <td>Kill The Noise</td>\n",
              "    </tr>\n",
              "    <tr>\n",
              "      <th>2013</th>\n",
              "      <td>2013</td>\n",
              "      <td>0.08770</td>\n",
              "      <td>0.894</td>\n",
              "      <td>182182</td>\n",
              "      <td>0.892</td>\n",
              "      <td>0.001670</td>\n",
              "      <td>1</td>\n",
              "      <td>0.0528</td>\n",
              "      <td>-2.663</td>\n",
              "      <td>1</td>\n",
              "      <td>0.1310</td>\n",
              "      <td>110.041</td>\n",
              "      <td>4.0</td>\n",
              "      <td>0.867</td>\n",
              "      <td>0</td>\n",
              "      <td>Candy</td>\n",
              "      <td>Dillon Francis</td>\n",
              "    </tr>\n",
              "    <tr>\n",
              "      <th>2014</th>\n",
              "      <td>2014</td>\n",
              "      <td>0.00857</td>\n",
              "      <td>0.637</td>\n",
              "      <td>207200</td>\n",
              "      <td>0.935</td>\n",
              "      <td>0.003990</td>\n",
              "      <td>0</td>\n",
              "      <td>0.2140</td>\n",
              "      <td>-2.467</td>\n",
              "      <td>1</td>\n",
              "      <td>0.1070</td>\n",
              "      <td>150.082</td>\n",
              "      <td>4.0</td>\n",
              "      <td>0.470</td>\n",
              "      <td>0</td>\n",
              "      <td>Habit - Dack Janiels &amp; Wenzday Remix</td>\n",
              "      <td>Rain Man</td>\n",
              "    </tr>\n",
              "    <tr>\n",
              "      <th>2015</th>\n",
              "      <td>2015</td>\n",
              "      <td>0.00164</td>\n",
              "      <td>0.557</td>\n",
              "      <td>185600</td>\n",
              "      <td>0.992</td>\n",
              "      <td>0.677000</td>\n",
              "      <td>1</td>\n",
              "      <td>0.0913</td>\n",
              "      <td>-2.735</td>\n",
              "      <td>1</td>\n",
              "      <td>0.1330</td>\n",
              "      <td>150.011</td>\n",
              "      <td>4.0</td>\n",
              "      <td>0.623</td>\n",
              "      <td>0</td>\n",
              "      <td>First Contact</td>\n",
              "      <td>Twin Moons</td>\n",
              "    </tr>\n",
              "    <tr>\n",
              "      <th>2016</th>\n",
              "      <td>2016</td>\n",
              "      <td>0.00281</td>\n",
              "      <td>0.446</td>\n",
              "      <td>204520</td>\n",
              "      <td>0.915</td>\n",
              "      <td>0.000039</td>\n",
              "      <td>9</td>\n",
              "      <td>0.2180</td>\n",
              "      <td>-6.221</td>\n",
              "      <td>1</td>\n",
              "      <td>0.1410</td>\n",
              "      <td>190.013</td>\n",
              "      <td>4.0</td>\n",
              "      <td>0.402</td>\n",
              "      <td>0</td>\n",
              "      <td>I Wanna Get Better</td>\n",
              "      <td>Bleachers</td>\n",
              "    </tr>\n",
              "  </tbody>\n",
              "</table>\n",
              "<p>2017 rows × 17 columns</p>\n",
              "</div>"
            ],
            "text/plain": [
              "      Unnamed: 0  ...            artist\n",
              "0              0  ...            Future\n",
              "1              1  ...  Childish Gambino\n",
              "2              2  ...            Future\n",
              "3              3  ...       Beach House\n",
              "4              4  ...       Junior Boys\n",
              "...          ...  ...               ...\n",
              "2012        2012  ...    Kill The Noise\n",
              "2013        2013  ...    Dillon Francis\n",
              "2014        2014  ...          Rain Man\n",
              "2015        2015  ...        Twin Moons\n",
              "2016        2016  ...         Bleachers\n",
              "\n",
              "[2017 rows x 17 columns]"
            ]
          },
          "metadata": {}
        }
      ]
    },
    {
      "cell_type": "markdown",
      "metadata": {
        "id": "VHseLyHz6SYb"
      },
      "source": [
        "## 3. Análisis del dataset"
      ]
    },
    {
      "cell_type": "code",
      "metadata": {
        "colab": {
          "base_uri": "https://localhost:8080/",
          "height": 300
        },
        "id": "sIuW1Dhb6R47",
        "outputId": "55640327-44ab-40fa-ec84-3c1f444a3a88"
      },
      "source": [
        "display(attributes_spotify.describe())"
      ],
      "execution_count": null,
      "outputs": [
        {
          "output_type": "display_data",
          "data": {
            "text/html": [
              "<div>\n",
              "<style scoped>\n",
              "    .dataframe tbody tr th:only-of-type {\n",
              "        vertical-align: middle;\n",
              "    }\n",
              "\n",
              "    .dataframe tbody tr th {\n",
              "        vertical-align: top;\n",
              "    }\n",
              "\n",
              "    .dataframe thead th {\n",
              "        text-align: right;\n",
              "    }\n",
              "</style>\n",
              "<table border=\"1\" class=\"dataframe\">\n",
              "  <thead>\n",
              "    <tr style=\"text-align: right;\">\n",
              "      <th></th>\n",
              "      <th>Unnamed: 0</th>\n",
              "      <th>acousticness</th>\n",
              "      <th>danceability</th>\n",
              "      <th>duration_ms</th>\n",
              "      <th>energy</th>\n",
              "      <th>instrumentalness</th>\n",
              "      <th>key</th>\n",
              "      <th>liveness</th>\n",
              "      <th>loudness</th>\n",
              "      <th>mode</th>\n",
              "      <th>speechiness</th>\n",
              "      <th>tempo</th>\n",
              "      <th>time_signature</th>\n",
              "      <th>valence</th>\n",
              "      <th>target</th>\n",
              "    </tr>\n",
              "  </thead>\n",
              "  <tbody>\n",
              "    <tr>\n",
              "      <th>count</th>\n",
              "      <td>2017.000000</td>\n",
              "      <td>2017.000000</td>\n",
              "      <td>2017.000000</td>\n",
              "      <td>2.017000e+03</td>\n",
              "      <td>2017.000000</td>\n",
              "      <td>2017.000000</td>\n",
              "      <td>2017.000000</td>\n",
              "      <td>2017.000000</td>\n",
              "      <td>2017.000000</td>\n",
              "      <td>2017.000000</td>\n",
              "      <td>2017.000000</td>\n",
              "      <td>2017.000000</td>\n",
              "      <td>2017.000000</td>\n",
              "      <td>2017.000000</td>\n",
              "      <td>2017.000000</td>\n",
              "    </tr>\n",
              "    <tr>\n",
              "      <th>mean</th>\n",
              "      <td>1008.000000</td>\n",
              "      <td>0.187590</td>\n",
              "      <td>0.618422</td>\n",
              "      <td>2.463062e+05</td>\n",
              "      <td>0.681577</td>\n",
              "      <td>0.133286</td>\n",
              "      <td>5.342588</td>\n",
              "      <td>0.190844</td>\n",
              "      <td>-7.085624</td>\n",
              "      <td>0.612295</td>\n",
              "      <td>0.092664</td>\n",
              "      <td>121.603272</td>\n",
              "      <td>3.968270</td>\n",
              "      <td>0.496815</td>\n",
              "      <td>0.505702</td>\n",
              "    </tr>\n",
              "    <tr>\n",
              "      <th>std</th>\n",
              "      <td>582.402066</td>\n",
              "      <td>0.259989</td>\n",
              "      <td>0.161029</td>\n",
              "      <td>8.198181e+04</td>\n",
              "      <td>0.210273</td>\n",
              "      <td>0.273162</td>\n",
              "      <td>3.648240</td>\n",
              "      <td>0.155453</td>\n",
              "      <td>3.761684</td>\n",
              "      <td>0.487347</td>\n",
              "      <td>0.089931</td>\n",
              "      <td>26.685604</td>\n",
              "      <td>0.255853</td>\n",
              "      <td>0.247195</td>\n",
              "      <td>0.500091</td>\n",
              "    </tr>\n",
              "    <tr>\n",
              "      <th>min</th>\n",
              "      <td>0.000000</td>\n",
              "      <td>0.000003</td>\n",
              "      <td>0.122000</td>\n",
              "      <td>1.604200e+04</td>\n",
              "      <td>0.014800</td>\n",
              "      <td>0.000000</td>\n",
              "      <td>0.000000</td>\n",
              "      <td>0.018800</td>\n",
              "      <td>-33.097000</td>\n",
              "      <td>0.000000</td>\n",
              "      <td>0.023100</td>\n",
              "      <td>47.859000</td>\n",
              "      <td>1.000000</td>\n",
              "      <td>0.034800</td>\n",
              "      <td>0.000000</td>\n",
              "    </tr>\n",
              "    <tr>\n",
              "      <th>25%</th>\n",
              "      <td>504.000000</td>\n",
              "      <td>0.009630</td>\n",
              "      <td>0.514000</td>\n",
              "      <td>2.000150e+05</td>\n",
              "      <td>0.563000</td>\n",
              "      <td>0.000000</td>\n",
              "      <td>2.000000</td>\n",
              "      <td>0.092300</td>\n",
              "      <td>-8.394000</td>\n",
              "      <td>0.000000</td>\n",
              "      <td>0.037500</td>\n",
              "      <td>100.189000</td>\n",
              "      <td>4.000000</td>\n",
              "      <td>0.295000</td>\n",
              "      <td>0.000000</td>\n",
              "    </tr>\n",
              "    <tr>\n",
              "      <th>50%</th>\n",
              "      <td>1008.000000</td>\n",
              "      <td>0.063300</td>\n",
              "      <td>0.631000</td>\n",
              "      <td>2.292610e+05</td>\n",
              "      <td>0.715000</td>\n",
              "      <td>0.000076</td>\n",
              "      <td>6.000000</td>\n",
              "      <td>0.127000</td>\n",
              "      <td>-6.248000</td>\n",
              "      <td>1.000000</td>\n",
              "      <td>0.054900</td>\n",
              "      <td>121.427000</td>\n",
              "      <td>4.000000</td>\n",
              "      <td>0.492000</td>\n",
              "      <td>1.000000</td>\n",
              "    </tr>\n",
              "    <tr>\n",
              "      <th>75%</th>\n",
              "      <td>1512.000000</td>\n",
              "      <td>0.265000</td>\n",
              "      <td>0.738000</td>\n",
              "      <td>2.703330e+05</td>\n",
              "      <td>0.846000</td>\n",
              "      <td>0.054000</td>\n",
              "      <td>9.000000</td>\n",
              "      <td>0.247000</td>\n",
              "      <td>-4.746000</td>\n",
              "      <td>1.000000</td>\n",
              "      <td>0.108000</td>\n",
              "      <td>137.849000</td>\n",
              "      <td>4.000000</td>\n",
              "      <td>0.691000</td>\n",
              "      <td>1.000000</td>\n",
              "    </tr>\n",
              "    <tr>\n",
              "      <th>max</th>\n",
              "      <td>2016.000000</td>\n",
              "      <td>0.995000</td>\n",
              "      <td>0.984000</td>\n",
              "      <td>1.004627e+06</td>\n",
              "      <td>0.998000</td>\n",
              "      <td>0.976000</td>\n",
              "      <td>11.000000</td>\n",
              "      <td>0.969000</td>\n",
              "      <td>-0.307000</td>\n",
              "      <td>1.000000</td>\n",
              "      <td>0.816000</td>\n",
              "      <td>219.331000</td>\n",
              "      <td>5.000000</td>\n",
              "      <td>0.992000</td>\n",
              "      <td>1.000000</td>\n",
              "    </tr>\n",
              "  </tbody>\n",
              "</table>\n",
              "</div>"
            ],
            "text/plain": [
              "        Unnamed: 0  acousticness  ...      valence       target\n",
              "count  2017.000000   2017.000000  ...  2017.000000  2017.000000\n",
              "mean   1008.000000      0.187590  ...     0.496815     0.505702\n",
              "std     582.402066      0.259989  ...     0.247195     0.500091\n",
              "min       0.000000      0.000003  ...     0.034800     0.000000\n",
              "25%     504.000000      0.009630  ...     0.295000     0.000000\n",
              "50%    1008.000000      0.063300  ...     0.492000     1.000000\n",
              "75%    1512.000000      0.265000  ...     0.691000     1.000000\n",
              "max    2016.000000      0.995000  ...     0.992000     1.000000\n",
              "\n",
              "[8 rows x 15 columns]"
            ]
          },
          "metadata": {}
        }
      ]
    },
    {
      "cell_type": "code",
      "metadata": {
        "colab": {
          "base_uri": "https://localhost:8080/"
        },
        "id": "NCdQJNeJFi0Y",
        "outputId": "dd221488-38ef-43de-8e3e-d67a2e8004fa"
      },
      "source": [
        "#Cantidad de canciones que le gustó o no a la usuaria\n",
        "attributes_spotify.groupby('target').size()"
      ],
      "execution_count": null,
      "outputs": [
        {
          "output_type": "execute_result",
          "data": {
            "text/plain": [
              "target\n",
              "0     997\n",
              "1    1020\n",
              "dtype: int64"
            ]
          },
          "metadata": {},
          "execution_count": 242
        }
      ]
    },
    {
      "cell_type": "code",
      "metadata": {
        "colab": {
          "base_uri": "https://localhost:8080/",
          "height": 440
        },
        "id": "vALrg4uoGc4Q",
        "outputId": "cb972322-bdfc-411e-f517-4db4190dd99a"
      },
      "source": [
        "#Veces que aparecieron canciones con determinados tonos musicales\n",
        "sb.catplot('key', data=attributes_spotify,kind=\"count\", aspect=3).set(title=\"Notas musicales: E.g. 0 = C, 1 = C♯/D♭, 2 = D, and so on\")\n",
        "plt.show()"
      ],
      "execution_count": null,
      "outputs": [
        {
          "output_type": "stream",
          "name": "stderr",
          "text": [
            "/usr/local/lib/python3.7/dist-packages/seaborn/_decorators.py:43: FutureWarning: Pass the following variable as a keyword arg: x. From version 0.12, the only valid positional argument will be `data`, and passing other arguments without an explicit keyword will result in an error or misinterpretation.\n",
            "  FutureWarning\n"
          ]
        },
        {
          "output_type": "display_data",
          "data": {
            "image/png": "[encoded data removed]",
            "text/plain": [
              "<Figure size 1080x360 with 1 Axes>"
            ]
          },
          "metadata": {
            "needs_background": "light"
          }
        }
      ]
    },
    {
      "cell_type": "markdown",
      "metadata": {
        "id": "c56u8M-f6YtF"
      },
      "source": [
        "## 4. Clasificador por K-NN"
      ]
    },
    {
      "cell_type": "markdown",
      "metadata": {
        "id": "JctT8KRPpdVH"
      },
      "source": [
        "Aplicaremos la eliminación recursiva de atributos. Dado un modelo predictivo se asigna un coeficiente de importancia a cada atributo emplenado la clase ExtraTreesClassifier, la cuál implementa un metaestimador que se ajusta a una serie de árboles de decisión aleatorios en varias submuestras del conjunto de datos y utiliza promedios para mejorar la precisión predictiva.\n",
        "\n",
        "El objetivo de la Eliminación Recursiva de atributos es ir seleccionado en forma recursiva un número cada vez más pequeño de atributos. Primero comienza con todos los atributos del dataset y luego en cada pasada va eliminando aquellos que tenga el menor coeficiente de importancia hasta alcanzar el número de atributos deseado."
      ]
    },
    {
      "cell_type": "code",
      "metadata": {
        "id": "_kkPas4gW55U"
      },
      "source": [
        "#Separamos la columna objetivo\n",
        "target = attributes_spotify['target']\n",
        "\n",
        "#Eliminamos la columna objetivo del dataset\n",
        "attributes_spotify_mod = attributes_spotify.drop(['target', 'song_title', 'artist', 'Unnamed: 0'], axis=1)\n",
        "columnas = list(attributes_spotify_mod.columns.values)\n",
        "\n",
        "n = 4 #Número de atributos a seleccionar\n",
        "modelo = ExtraTreesClassifier()\n",
        "recursive_delete = RFE(modelo, n)\n",
        "recursive_delete = recursive_delete.fit(attributes_spotify_mod, target)"
      ],
      "execution_count": null,
      "outputs": []
    },
    {
      "cell_type": "code",
      "metadata": {
        "colab": {
          "base_uri": "https://localhost:8080/"
        },
        "id": "Ru6HqHeTW53d",
        "outputId": "6d427973-1579-4e47-8bee-1e0f0607df72"
      },
      "source": [
        "# imprimir resultados\n",
        "atrib = recursive_delete.support_\n",
        "relevant_features = [columnas[i] for i in list(atrib.nonzero()[0])]\n",
        "relevant_features"
      ],
      "execution_count": null,
      "outputs": [
        {
          "output_type": "execute_result",
          "data": {
            "text/plain": [
              "['energy', 'instrumentalness', 'loudness', 'speechiness']"
            ]
          },
          "metadata": {},
          "execution_count": 214
        }
      ]
    },
    {
      "cell_type": "code",
      "metadata": {
        "id": "dv_rMMWct0kw"
      },
      "source": [
        "relevant_features.append('target') #Volvemos a incluir el atributo target junto con los atributos mas relevantes"
      ],
      "execution_count": null,
      "outputs": []
    },
    {
      "cell_type": "code",
      "metadata": {
        "id": "jue0qBBzW5zE",
        "colab": {
          "base_uri": "https://localhost:8080/",
          "height": 424
        },
        "outputId": "28aca6a3-f083-4ad9-f61f-ed1fe27b30f2"
      },
      "source": [
        "spotify_df = attributes_spotify[relevant_features]\n",
        "spotify_df"
      ],
      "execution_count": null,
      "outputs": [
        {
          "output_type": "execute_result",
          "data": {
            "text/html": [
              "<div>\n",
              "<style scoped>\n",
              "    .dataframe tbody tr th:only-of-type {\n",
              "        vertical-align: middle;\n",
              "    }\n",
              "\n",
              "    .dataframe tbody tr th {\n",
              "        vertical-align: top;\n",
              "    }\n",
              "\n",
              "    .dataframe thead th {\n",
              "        text-align: right;\n",
              "    }\n",
              "</style>\n",
              "<table border=\"1\" class=\"dataframe\">\n",
              "  <thead>\n",
              "    <tr style=\"text-align: right;\">\n",
              "      <th></th>\n",
              "      <th>energy</th>\n",
              "      <th>instrumentalness</th>\n",
              "      <th>loudness</th>\n",
              "      <th>speechiness</th>\n",
              "      <th>target</th>\n",
              "    </tr>\n",
              "  </thead>\n",
              "  <tbody>\n",
              "    <tr>\n",
              "      <th>0</th>\n",
              "      <td>0.434</td>\n",
              "      <td>0.021900</td>\n",
              "      <td>-8.795</td>\n",
              "      <td>0.4310</td>\n",
              "      <td>1</td>\n",
              "    </tr>\n",
              "    <tr>\n",
              "      <th>1</th>\n",
              "      <td>0.359</td>\n",
              "      <td>0.006110</td>\n",
              "      <td>-10.401</td>\n",
              "      <td>0.0794</td>\n",
              "      <td>1</td>\n",
              "    </tr>\n",
              "    <tr>\n",
              "      <th>2</th>\n",
              "      <td>0.412</td>\n",
              "      <td>0.000234</td>\n",
              "      <td>-7.148</td>\n",
              "      <td>0.2890</td>\n",
              "      <td>1</td>\n",
              "    </tr>\n",
              "    <tr>\n",
              "      <th>3</th>\n",
              "      <td>0.338</td>\n",
              "      <td>0.510000</td>\n",
              "      <td>-15.236</td>\n",
              "      <td>0.0261</td>\n",
              "      <td>1</td>\n",
              "    </tr>\n",
              "    <tr>\n",
              "      <th>4</th>\n",
              "      <td>0.561</td>\n",
              "      <td>0.512000</td>\n",
              "      <td>-11.648</td>\n",
              "      <td>0.0694</td>\n",
              "      <td>1</td>\n",
              "    </tr>\n",
              "    <tr>\n",
              "      <th>...</th>\n",
              "      <td>...</td>\n",
              "      <td>...</td>\n",
              "      <td>...</td>\n",
              "      <td>...</td>\n",
              "      <td>...</td>\n",
              "    </tr>\n",
              "    <tr>\n",
              "      <th>2012</th>\n",
              "      <td>0.932</td>\n",
              "      <td>0.002690</td>\n",
              "      <td>-3.501</td>\n",
              "      <td>0.3330</td>\n",
              "      <td>0</td>\n",
              "    </tr>\n",
              "    <tr>\n",
              "      <th>2013</th>\n",
              "      <td>0.892</td>\n",
              "      <td>0.001670</td>\n",
              "      <td>-2.663</td>\n",
              "      <td>0.1310</td>\n",
              "      <td>0</td>\n",
              "    </tr>\n",
              "    <tr>\n",
              "      <th>2014</th>\n",
              "      <td>0.935</td>\n",
              "      <td>0.003990</td>\n",
              "      <td>-2.467</td>\n",
              "      <td>0.1070</td>\n",
              "      <td>0</td>\n",
              "    </tr>\n",
              "    <tr>\n",
              "      <th>2015</th>\n",
              "      <td>0.992</td>\n",
              "      <td>0.677000</td>\n",
              "      <td>-2.735</td>\n",
              "      <td>0.1330</td>\n",
              "      <td>0</td>\n",
              "    </tr>\n",
              "    <tr>\n",
              "      <th>2016</th>\n",
              "      <td>0.915</td>\n",
              "      <td>0.000039</td>\n",
              "      <td>-6.221</td>\n",
              "      <td>0.1410</td>\n",
              "      <td>0</td>\n",
              "    </tr>\n",
              "  </tbody>\n",
              "</table>\n",
              "<p>2017 rows × 5 columns</p>\n",
              "</div>"
            ],
            "text/plain": [
              "      energy  instrumentalness  loudness  speechiness  target\n",
              "0      0.434          0.021900    -8.795       0.4310       1\n",
              "1      0.359          0.006110   -10.401       0.0794       1\n",
              "2      0.412          0.000234    -7.148       0.2890       1\n",
              "3      0.338          0.510000   -15.236       0.0261       1\n",
              "4      0.561          0.512000   -11.648       0.0694       1\n",
              "...      ...               ...       ...          ...     ...\n",
              "2012   0.932          0.002690    -3.501       0.3330       0\n",
              "2013   0.892          0.001670    -2.663       0.1310       0\n",
              "2014   0.935          0.003990    -2.467       0.1070       0\n",
              "2015   0.992          0.677000    -2.735       0.1330       0\n",
              "2016   0.915          0.000039    -6.221       0.1410       0\n",
              "\n",
              "[2017 rows x 5 columns]"
            ]
          },
          "metadata": {},
          "execution_count": 216
        }
      ]
    },
    {
      "cell_type": "code",
      "metadata": {
        "id": "Jmenja03-yww"
      },
      "source": [
        "#Función para separar el dataset en entrenamiento, validación y prueba\n",
        "def train_validate_test_split(df, train_percent=.6, validate_percent=.2):\n",
        "    np.random.seed(1)\n",
        "    perm = np.random.permutation(df.index)\n",
        "    m = len(df.index)\n",
        "    train_end = int(train_percent * m)\n",
        "    validate_end = int(validate_percent * m) + train_end\n",
        "    train = df.iloc[perm[:train_end]]\n",
        "    validate = df.iloc[perm[train_end:validate_end]]\n",
        "    test = df.iloc[perm[validate_end:]]\n",
        "    return train, validate, test"
      ],
      "execution_count": null,
      "outputs": []
    },
    {
      "cell_type": "code",
      "metadata": {
        "id": "2JXTN-fsBAGQ",
        "colab": {
          "base_uri": "https://localhost:8080/"
        },
        "outputId": "654d36bb-235f-4c3d-d3a8-7af6e309e8a4"
      },
      "source": [
        "train, validate, test = train_validate_test_split(spotify_df, 0.9, 0.07)\n",
        "print(f\"Datos de entrenamiento: {train.shape}\")\n",
        "print(f\"Datos de validacion: {validate.shape}\")\n",
        "print(f\"Datos de prueba: {test.shape}\")\n",
        "\n",
        "X_train = train.iloc[:,:-1]\n",
        "y_train = train.iloc[:,-1] #Atributo objetivo: target\n",
        "\n",
        "X_validate = validate.iloc[:,:-1]\n",
        "y_validate = validate.iloc[:,-1] #Atributo objetivo: target\n",
        "\n",
        "X_test = test.iloc[:,:-1]\n",
        "y_test = test.iloc[:,-1] #Atributo objetivo: target"
      ],
      "execution_count": null,
      "outputs": [
        {
          "output_type": "stream",
          "name": "stdout",
          "text": [
            "Datos de entrenamiento: (1815, 5)\n",
            "Datos de validacion: (141, 5)\n",
            "Datos de prueba: (61, 5)\n"
          ]
        }
      ]
    },
    {
      "cell_type": "code",
      "metadata": {
        "colab": {
          "base_uri": "https://localhost:8080/",
          "height": 513
        },
        "id": "a94KUllGu6YA",
        "outputId": "9cf50e2e-bfa9-4a67-8542-12234ebd0e38"
      },
      "source": [
        "#Observamos la precisión en función de k, para obtener el valor de k óptimo\n",
        "scores = []\n",
        "x_range = []\n",
        "for k1 in range(1,20):\n",
        "  knn1 = neighbors.KNeighborsClassifier(n_neighbors=k1)\n",
        "  knn1.fit(X_train, y_train)\n",
        "  scores.append(knn1.score(X_validate, y_validate))\n",
        "  x_range.append(k1)\n",
        "\n",
        "plt.figure(figsize=(15,8))\n",
        "plt.plot(x_range,scores)\n",
        "plt.xticks(x_range)\n",
        "plt.title(\"Accuracy over k\")\n",
        "plt.xlabel(\"k\")\n",
        "plt.ylabel(\"Accuracy\")\n",
        "plt.show()"
      ],
      "execution_count": null,
      "outputs": [
        {
          "output_type": "display_data",
          "data": {
            "image/png": "[encoded data removed]",
            "text/plain": [
              "<Figure size 1080x576 with 1 Axes>"
            ]
          },
          "metadata": {
            "needs_background": "light"
          }
        }
      ]
    },
    {
      "cell_type": "code",
      "metadata": {
        "colab": {
          "base_uri": "https://localhost:8080/"
        },
        "id": "yBKEYb3xxJUT",
        "outputId": "cd8aec71-2536-4fca-fe92-de95c1d3b683"
      },
      "source": [
        "k = 10 #nº de vecinos mas cercanos para tener la máxima presición\n",
        "knn = neighbors.KNeighborsClassifier(n_neighbors=k)\n",
        "knn.fit(X_train, y_train)\n",
        "print(f\"Modelo entrenado - Accuracy: {round(knn.score(X_validate, y_validate)*100,2)}%\")"
      ],
      "execution_count": null,
      "outputs": [
        {
          "output_type": "stream",
          "name": "stdout",
          "text": [
            "Modelo entrenado - Accuracy: 72.34%\n"
          ]
        }
      ]
    },
    {
      "cell_type": "markdown",
      "metadata": {
        "id": "UvRT7QtN4erS"
      },
      "source": [
        "Observación: Los mejores valores de porcentajes de división del dataset en entrenamiento, validación y prueba, así como también el valor de n (número de atributos a seleccionar) se obtuvieron de forma experimental."
      ]
    },
    {
      "cell_type": "markdown",
      "metadata": {
        "id": "xvwdAEyv7W8z"
      },
      "source": [
        "## 5. Análisis de resultados sobre el dataset de prueba"
      ]
    },
    {
      "cell_type": "code",
      "metadata": {
        "colab": {
          "base_uri": "https://localhost:8080/",
          "height": 486
        },
        "id": "G31OD8N9u9wJ",
        "outputId": "9b639d40-37a1-4b9d-e351-c279856cf0b1"
      },
      "source": [
        "y_predicted = knn.predict(X_test)\n",
        "print(\"Metricas de medición:\\n\")\n",
        "print(f\"{metrics.classification_report(y_test, y_predicted)}\")\n",
        "\n",
        "confusion_matrix = metrics.plot_confusion_matrix(knn, X_test, y_test)\n",
        "plt.title(\"Confusion Matrix - Test Values\")\n",
        "plt.show()"
      ],
      "execution_count": null,
      "outputs": [
        {
          "output_type": "stream",
          "name": "stdout",
          "text": [
            "Metricas de medición:\n",
            "\n",
            "              precision    recall  f1-score   support\n",
            "\n",
            "           0       0.68      0.72      0.70        29\n",
            "           1       0.73      0.69      0.71        32\n",
            "\n",
            "    accuracy                           0.70        61\n",
            "   macro avg       0.71      0.71      0.70        61\n",
            "weighted avg       0.71      0.70      0.71        61\n",
            "\n"
          ]
        },
        {
          "output_type": "display_data",
          "data": {
            "image/png": "[encoded data removed]",
            "text/plain": [
              "<Figure size 432x288 with 2 Axes>"
            ]
          },
          "metadata": {
            "needs_background": "light"
          }
        }
      ]
    },
    {
      "cell_type": "markdown",
      "metadata": {
        "id": "5issZO8_wn4R"
      },
      "source": [
        "Tomaremos 20 muestras del set de pruebas para observar los resultados obtenidos de la predicción"
      ]
    },
    {
      "cell_type": "code",
      "metadata": {
        "colab": {
          "base_uri": "https://localhost:8080/"
        },
        "id": "A4jEx0zovI9G",
        "outputId": "f1f16b50-62db-4ce5-813c-1e096a84ac93"
      },
      "source": [
        "for i in range(20):\n",
        "  prediction = y_predicted[i]\n",
        "  true = attributes_spotify.iloc[X_test.index.values[i],:]['target']\n",
        "  name = attributes_spotify.iloc[X_test.index.values[i],:]['song_title']\n",
        "  print(f\"Predicted: {prediction} - True: {true} - Song_name: {name}\")"
      ],
      "execution_count": null,
      "outputs": [
        {
          "output_type": "stream",
          "name": "stdout",
          "text": [
            "Predicted: 0 - True: 0 - Song_name: There's Nothing Holdin' Me Back - NOTD Remix\n",
            "Predicted: 1 - True: 0 - Song_name: Neighbors\n",
            "Predicted: 0 - True: 0 - Song_name: Me Enamoré\n",
            "Predicted: 1 - True: 1 - Song_name: Cloud Atlas End Title\n",
            "Predicted: 0 - True: 1 - Song_name: Computer Love\n",
            "Predicted: 1 - True: 1 - Song_name: Levitate\n",
            "Predicted: 1 - True: 1 - Song_name: Mornin'\n",
            "Predicted: 0 - True: 1 - Song_name: Now Is Not the Time\n",
            "Predicted: 0 - True: 0 - Song_name: Help\n",
            "Predicted: 1 - True: 1 - Song_name: White Noise\n",
            "Predicted: 0 - True: 0 - Song_name: TESTIFY\n",
            "Predicted: 0 - True: 1 - Song_name: Black Out Days\n",
            "Predicted: 0 - True: 1 - Song_name: Ambling Alp\n",
            "Predicted: 0 - True: 0 - Song_name: Remember the Time\n",
            "Predicted: 1 - True: 1 - Song_name: Best Night\n",
            "Predicted: 1 - True: 0 - Song_name: Manufactured Existence\n",
            "Predicted: 1 - True: 0 - Song_name: The Folks Who Live on the Hill\n",
            "Predicted: 1 - True: 1 - Song_name: Topless\n",
            "Predicted: 1 - True: 1 - Song_name: Who Is He (And What Is He to You?)\n",
            "Predicted: 0 - True: 0 - Song_name: Small Town Boy\n"
          ]
        }
      ]
    },
    {
      "cell_type": "code",
      "metadata": {
        "colab": {
          "base_uri": "https://localhost:8080/",
          "height": 516
        },
        "id": "eyzqvuEWzP3e",
        "outputId": "335721b4-f402-4c8c-cb38-36af94fef576"
      },
      "source": [
        "true = 0\n",
        "false = 0\n",
        "for i in range(len(y_predicted)):\n",
        "  prediction = y_predicted[i]\n",
        "  true_value = attributes_spotify.iloc[X_test.index.values[i],:]['target']\n",
        "  \n",
        "  if prediction == true_value:\n",
        "    true += 1\n",
        "  else:\n",
        "    false += 1\n",
        "\n",
        "print(f\"Total aciertos: {true} - Total desaciertos: {false}\")\n",
        "eje_x = ['Desaciertos', 'Aciertos']\n",
        "eje_y = [false, true]\n",
        "\n",
        "plt.figure(figsize=(15,8)) \n",
        "plt.bar(eje_x, eje_y, width=0.5)\n",
        "plt.ylabel('Total')\n",
        "plt.title('Total de aciertos y desaciertos')\n",
        "plt.show()\n"
      ],
      "execution_count": null,
      "outputs": [
        {
          "output_type": "stream",
          "name": "stdout",
          "text": [
            "Total aciertos: 43 - Total desaciertos: 18\n"
          ]
        },
        {
          "output_type": "display_data",
          "data": {
            "image/png": "[encoded data removed]",
            "text/plain": [
              "<Figure size 1080x576 with 1 Axes>"
            ]
          },
          "metadata": {
            "needs_background": "light"
          }
        }
      ]
    },
    {
      "cell_type": "markdown",
      "metadata": {
        "id": "MXSfOtM87k3j"
      },
      "source": [
        "## 6. Conclusión\n",
        "\n",
        "Se observa como la presición empleando el set de pruebas es muy cercana a la presición obtenida durante el entrenamiento y validación.\n",
        "\n",
        "Por otro lado es importante descatcar que para obtener la mejor permorfance posible en el clasificador, es necesario variar no solo el valor de *k (nº de vecinos mas cercanos)* sino también el valor de *n (número de atributos a seleccionar)* y los porcentajes de divisón del dataset (entrenamiento, validación y test)"
      ]
    }
  ]
}