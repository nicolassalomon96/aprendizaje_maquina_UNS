{
  "nbformat": 4,
  "nbformat_minor": 0,
  "metadata": {
    "colab": {
      "name": "KNN-3.2 (opcional).ipynb",
      "provenance": [],
      "collapsed_sections": [
        "_6Oyfmg3nKH6",
        "k9BNl9zunTeD"
      ],
      "authorship_tag": "ABX9TyOyu2ZwoqPP5d9RgkSRizpa",
      "include_colab_link": true
    },
    "kernelspec": {
      "name": "python3",
      "display_name": "Python 3"
    },
    "language_info": {
      "name": "python"
    }
  },
  "cells": [
    {
      "cell_type": "markdown",
      "metadata": {
        "id": "view-in-github",
        "colab_type": "text"
      },
      "source": [
        "<a href=\"https://colab.research.google.com/github/nicolassalomon96/aprendizaje_maquina_UNS/blob/master/TP3/KNN-3.2(opcional).ipynb\" target=\"_parent\"><img src=\"https://colab.research.google.com/assets/colab-badge.svg\" alt=\"Open In Colab\"/></a>"
      ]
    },
    {
      "cell_type": "markdown",
      "metadata": {
        "id": "p2-TwqwKmaf6"
      },
      "source": [
        "# TP3 - Clasificador KNN\n",
        "\n",
        "### Ejercicio 3.2 (optativo): Hacer alguna experiencia con el dataset anterior utilizando validáción cruzada y (o) grid search."
      ]
    },
    {
      "cell_type": "markdown",
      "metadata": {
        "id": "_6Oyfmg3nKH6"
      },
      "source": [
        "## 1. Librerias necesarias"
      ]
    },
    {
      "cell_type": "code",
      "metadata": {
        "id": "7wZ0aD6Ekz5u"
      },
      "source": [
        "import pandas as pd\n",
        "import numpy as np\n",
        "import matplotlib.pyplot as plt\n",
        "import seaborn as sns\n",
        "from sklearn.model_selection import train_test_split\n",
        "from sklearn import neighbors\n",
        "from sklearn import metrics\n",
        "from sklearn.model_selection import cross_val_score\n",
        "from sklearn.model_selection import cross_val_predict\n",
        "from sklearn.model_selection import KFold"
      ],
      "execution_count": 48,
      "outputs": []
    },
    {
      "cell_type": "markdown",
      "metadata": {
        "id": "k9BNl9zunTeD"
      },
      "source": [
        "## 2. Generación de los datasets"
      ]
    },
    {
      "cell_type": "code",
      "metadata": {
        "id": "ls058olNnTDq"
      },
      "source": [
        "def gen_dataset(media_a, ds_a, media_b, ds_b, features_number, n):\n",
        "  # Semilla aletoria\n",
        "  np.random.seed(0)\n",
        "\n",
        "  a_df = pd.DataFrame(np.random.normal(loc = media_a, scale = ds_a, size=(n, features_number)),\n",
        "                          columns=['X','Y'])\n",
        "  a_df['Etiqueta'] = 'A'\n",
        "\n",
        "  b_df = pd.DataFrame(np.random.normal(loc = media_b, scale = ds_b, size=(n, features_number)),\n",
        "                          columns=['X','Y'])\n",
        "  b_df['Etiqueta'] = 'B'\n",
        "\n",
        "  return a_df, b_df\n",
        "\n",
        "def merge_dataset(a_df, b_df):\n",
        "  a_b_df = pd.DataFrame(np.concatenate([a_df['X'],b_df['X']]), columns=['X'])\n",
        "  a_b_df['Y'] = np.concatenate([a_df['Y'],b_df['Y']])\n",
        "  a_b_df['Etiqueta'] = np.concatenate([a_df['Etiqueta'],b_df['Etiqueta']])\n",
        "  a_b_df = a_b_df.sort_values(by='Y') #Ordenamos el dataset de menor a mayor\n",
        "  a_b_df = a_b_df.reset_index().drop('index', axis=1) #Reseteamos los indices del dataset ordenado y eliminamos la columna index que posee los indices anteriores al ordenamiento\n",
        "  \n",
        "  return a_b_df"
      ],
      "execution_count": 2,
      "outputs": []
    },
    {
      "cell_type": "code",
      "metadata": {
        "id": "uTK18Q8MvYRI"
      },
      "source": [
        "features_number = 2\n",
        "n = 100\n",
        "\n",
        "media_a = 10 #Media del dataset A\n",
        "ds_a = 2  #Desviación estandar del dataset A\n",
        "\n",
        "media_b = 15 #Media del dataset B\n",
        "ds_b = 3 #Desviación estandar del dataset B\n",
        "\n",
        "a_df, b_df = gen_dataset(media_a, ds_a, media_b, ds_b, features_number, n)"
      ],
      "execution_count": 3,
      "outputs": []
    },
    {
      "cell_type": "code",
      "metadata": {
        "colab": {
          "base_uri": "https://localhost:8080/",
          "height": 424
        },
        "id": "CuRlZ5RanhJy",
        "outputId": "3c653919-f855-4ba6-c904-c8c154a18116"
      },
      "source": [
        "a_df"
      ],
      "execution_count": 4,
      "outputs": [
        {
          "output_type": "execute_result",
          "data": {
            "text/html": [
              "<div>\n",
              "<style scoped>\n",
              "    .dataframe tbody tr th:only-of-type {\n",
              "        vertical-align: middle;\n",
              "    }\n",
              "\n",
              "    .dataframe tbody tr th {\n",
              "        vertical-align: top;\n",
              "    }\n",
              "\n",
              "    .dataframe thead th {\n",
              "        text-align: right;\n",
              "    }\n",
              "</style>\n",
              "<table border=\"1\" class=\"dataframe\">\n",
              "  <thead>\n",
              "    <tr style=\"text-align: right;\">\n",
              "      <th></th>\n",
              "      <th>X</th>\n",
              "      <th>Y</th>\n",
              "      <th>Etiqueta</th>\n",
              "    </tr>\n",
              "  </thead>\n",
              "  <tbody>\n",
              "    <tr>\n",
              "      <th>0</th>\n",
              "      <td>13.528105</td>\n",
              "      <td>10.800314</td>\n",
              "      <td>A</td>\n",
              "    </tr>\n",
              "    <tr>\n",
              "      <th>1</th>\n",
              "      <td>11.957476</td>\n",
              "      <td>14.481786</td>\n",
              "      <td>A</td>\n",
              "    </tr>\n",
              "    <tr>\n",
              "      <th>2</th>\n",
              "      <td>13.735116</td>\n",
              "      <td>8.045444</td>\n",
              "      <td>A</td>\n",
              "    </tr>\n",
              "    <tr>\n",
              "      <th>3</th>\n",
              "      <td>11.900177</td>\n",
              "      <td>9.697286</td>\n",
              "      <td>A</td>\n",
              "    </tr>\n",
              "    <tr>\n",
              "      <th>4</th>\n",
              "      <td>9.793562</td>\n",
              "      <td>10.821197</td>\n",
              "      <td>A</td>\n",
              "    </tr>\n",
              "    <tr>\n",
              "      <th>...</th>\n",
              "      <td>...</td>\n",
              "      <td>...</td>\n",
              "      <td>...</td>\n",
              "    </tr>\n",
              "    <tr>\n",
              "      <th>95</th>\n",
              "      <td>7.414286</td>\n",
              "      <td>10.534102</td>\n",
              "      <td>A</td>\n",
              "    </tr>\n",
              "    <tr>\n",
              "      <th>96</th>\n",
              "      <td>9.921434</td>\n",
              "      <td>7.663813</td>\n",
              "      <td>A</td>\n",
              "    </tr>\n",
              "    <tr>\n",
              "      <th>97</th>\n",
              "      <td>11.046553</td>\n",
              "      <td>9.656907</td>\n",
              "      <td>A</td>\n",
              "    </tr>\n",
              "    <tr>\n",
              "      <th>98</th>\n",
              "      <td>11.543581</td>\n",
              "      <td>11.647008</td>\n",
              "      <td>A</td>\n",
              "    </tr>\n",
              "    <tr>\n",
              "      <th>99</th>\n",
              "      <td>14.326472</td>\n",
              "      <td>12.673056</td>\n",
              "      <td>A</td>\n",
              "    </tr>\n",
              "  </tbody>\n",
              "</table>\n",
              "<p>100 rows × 3 columns</p>\n",
              "</div>"
            ],
            "text/plain": [
              "            X          Y Etiqueta\n",
              "0   13.528105  10.800314        A\n",
              "1   11.957476  14.481786        A\n",
              "2   13.735116   8.045444        A\n",
              "3   11.900177   9.697286        A\n",
              "4    9.793562  10.821197        A\n",
              "..        ...        ...      ...\n",
              "95   7.414286  10.534102        A\n",
              "96   9.921434   7.663813        A\n",
              "97  11.046553   9.656907        A\n",
              "98  11.543581  11.647008        A\n",
              "99  14.326472  12.673056        A\n",
              "\n",
              "[100 rows x 3 columns]"
            ]
          },
          "metadata": {},
          "execution_count": 4
        }
      ]
    },
    {
      "cell_type": "markdown",
      "metadata": {
        "id": "GhUviq6-ATFE"
      },
      "source": [
        "### 2.1. Gráfica de datos"
      ]
    },
    {
      "cell_type": "code",
      "metadata": {
        "colab": {
          "base_uri": "https://localhost:8080/",
          "height": 607
        },
        "id": "4tRlH7Qmo9OR",
        "outputId": "718cc971-e3d0-4be7-a368-4c11a4a78a25"
      },
      "source": [
        "plt.figure(figsize=(15,10))\n",
        "plt.scatter(a_df['X'], a_df['Y'], s=40, c='blue', label='Dataset A')\n",
        "plt.scatter(b_df['X'], b_df['Y'], s=40, c='red', marker='*', label='Dataset B')\n",
        "plt.title(\"Valores de cada dataset\")\n",
        "plt.legend(fontsize=14)\n",
        "plt.show()"
      ],
      "execution_count": 5,
      "outputs": [
        {
          "output_type": "display_data",
          "data": {
            "image/png": "[encoded data removed]",
            "text/plain": [
              "<Figure size 1080x720 with 1 Axes>"
            ]
          },
          "metadata": {
            "needs_background": "light"
          }
        }
      ]
    },
    {
      "cell_type": "markdown",
      "metadata": {
        "id": "t0dopyChrgmZ"
      },
      "source": [
        "## 3. Clasificador K-NN "
      ]
    },
    {
      "cell_type": "code",
      "metadata": {
        "colab": {
          "base_uri": "https://localhost:8080/"
        },
        "id": "qbwZE93Srv96",
        "outputId": "232fb378-084b-4b19-9f34-1d99792dafe7"
      },
      "source": [
        "#Separamos los datos de cada dataset en datos de prueba y validación\n",
        "p_train = 0.5 #Porcentaje de datos de cada dataset utilizado para entrenamiento, el resto será para validación\n",
        "a_train, a_test = train_test_split(a_df, train_size = p_train)\n",
        "b_train, b_test = train_test_split(b_df, train_size = p_train)\n",
        "\n",
        "print(\"Ejemplos usados para entrenar (Dataset A): \", len(a_train))\n",
        "print(\"Ejemplos usados para test (Dataset A): \", len(a_test))\n",
        "print(\"Ejemplos usados para entrenar (Dataset B): \", len(b_train))\n",
        "print(\"Ejemplos usados para test (Dataset B): \", len(b_test))"
      ],
      "execution_count": 86,
      "outputs": [
        {
          "output_type": "stream",
          "name": "stdout",
          "text": [
            "Ejemplos usados para entrenar (Dataset A):  50\n",
            "Ejemplos usados para test (Dataset A):  50\n",
            "Ejemplos usados para entrenar (Dataset B):  50\n",
            "Ejemplos usados para test (Dataset B):  50\n"
          ]
        }
      ]
    },
    {
      "cell_type": "code",
      "metadata": {
        "id": "PxAUZPAzrWyK"
      },
      "source": [
        "train_dataset = merge_dataset(a_train, b_train)\n",
        "X_train = train_dataset.iloc[:,:2]\n",
        "y_train = train_dataset.iloc[:,2]\n",
        "\n",
        "test_dataset = merge_dataset(a_test, b_test)\n",
        "X_test = test_dataset.iloc[:,:2]\n",
        "y_test = test_dataset.iloc[:,2]"
      ],
      "execution_count": 87,
      "outputs": []
    },
    {
      "cell_type": "markdown",
      "metadata": {
        "id": "fYMA5vaph0qc"
      },
      "source": [
        "### 3.1. Comparación emplenado cross-validation"
      ]
    },
    {
      "cell_type": "code",
      "metadata": {
        "colab": {
          "base_uri": "https://localhost:8080/"
        },
        "id": "UyLluC7awDFi",
        "outputId": "b404fc42-b7cf-4def-e977-18cffb45d23e"
      },
      "source": [
        "k = 10 #nº de vecinos mas cercanos\n",
        "knn = neighbors.KNeighborsClassifier(n_neighbors=k)\n",
        "knn.fit(X_train, y_train)\n",
        "\n",
        "#Predicción sin cross-validation\n",
        "y_predicted = knn.predict(X_test)\n",
        "\n",
        "print(\"Metricas de medición sin cross-validation:\")\n",
        "print(f\"{metrics.classification_report(y_test, y_predicted)}\")\n",
        "\n",
        "#Predicción con cross-validation\n",
        "y_predicted_cross = cross_val_predict(knn, X_test, y_test, cv=10)\n",
        "\n",
        "print(\"Metricas de medición con cross-validation:\")\n",
        "print(f\"{metrics.classification_report(y_test, y_predicted_cross)}\")"
      ],
      "execution_count": 92,
      "outputs": [
        {
          "output_type": "stream",
          "name": "stdout",
          "text": [
            "Metricas de medición sin cross-validation:\n",
            "              precision    recall  f1-score   support\n",
            "\n",
            "           A       0.84      0.92      0.88        50\n",
            "           B       0.91      0.82      0.86        50\n",
            "\n",
            "    accuracy                           0.87       100\n",
            "   macro avg       0.87      0.87      0.87       100\n",
            "weighted avg       0.87      0.87      0.87       100\n",
            "\n",
            "Metricas de medición con cross-validation:\n",
            "              precision    recall  f1-score   support\n",
            "\n",
            "           A       0.85      0.92      0.88        50\n",
            "           B       0.91      0.84      0.87        50\n",
            "\n",
            "    accuracy                           0.88       100\n",
            "   macro avg       0.88      0.88      0.88       100\n",
            "weighted avg       0.88      0.88      0.88       100\n",
            "\n"
          ]
        }
      ]
    },
    {
      "cell_type": "markdown",
      "metadata": {
        "id": "aq6IeJtLhY2k"
      },
      "source": [
        "Conclusión: Es posible observar como empleando cross-validation (con 10 repeticiones o pliegues) se obtiene una leve mejora en las métricas de medición para nuestros datasets. Por otro lado, es necesario destacar que en datasets mas extensos hay que analizar la capacidad de cómputo con que disponemos, dado que la validación cruzada requiere muchos mas cálculos y tiempo a emplear."
      ]
    }
  ]
}